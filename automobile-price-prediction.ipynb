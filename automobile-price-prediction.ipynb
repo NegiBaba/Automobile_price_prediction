{
 "cells": [
  {
   "cell_type": "code",
   "execution_count": 1,
   "id": "vanilla-saskatchewan",
   "metadata": {
    "_cell_guid": "b1076dfc-b9ad-4769-8c92-a6c4dae69d19",
    "_uuid": "8f2839f25d086af736a60e9eeb907d3b93b6e0e5",
    "execution": {
     "iopub.execute_input": "2021-05-02T15:57:38.332200Z",
     "iopub.status.busy": "2021-05-02T15:57:38.330442Z",
     "iopub.status.idle": "2021-05-02T15:57:38.341671Z",
     "shell.execute_reply": "2021-05-02T15:57:38.342185Z"
    },
    "papermill": {
     "duration": 0.034518,
     "end_time": "2021-05-02T15:57:38.342542",
     "exception": false,
     "start_time": "2021-05-02T15:57:38.308024",
     "status": "completed"
    },
    "tags": []
   },
   "outputs": [],
   "source": [
    "import numpy as np\n",
    "import pandas as pd"
   ]
  },
  {
   "cell_type": "markdown",
   "id": "saving-morocco",
   "metadata": {
    "papermill": {
     "duration": 0.01635,
     "end_time": "2021-05-02T15:57:38.375439",
     "exception": false,
     "start_time": "2021-05-02T15:57:38.359089",
     "status": "completed"
    },
    "tags": []
   },
   "source": [
    "# Prediction of automobile price"
   ]
  },
  {
   "cell_type": "code",
   "execution_count": 2,
   "id": "chief-halifax",
   "metadata": {
    "execution": {
     "iopub.execute_input": "2021-05-02T15:57:38.413075Z",
     "iopub.status.busy": "2021-05-02T15:57:38.412050Z",
     "iopub.status.idle": "2021-05-02T15:57:38.486565Z",
     "shell.execute_reply": "2021-05-02T15:57:38.487140Z"
    },
    "papermill": {
     "duration": 0.095267,
     "end_time": "2021-05-02T15:57:38.487361",
     "exception": false,
     "start_time": "2021-05-02T15:57:38.392094",
     "status": "completed"
    },
    "tags": []
   },
   "outputs": [
    {
     "data": {
      "text/html": [
       "<div>\n",
       "<style scoped>\n",
       "    .dataframe tbody tr th:only-of-type {\n",
       "        vertical-align: middle;\n",
       "    }\n",
       "\n",
       "    .dataframe tbody tr th {\n",
       "        vertical-align: top;\n",
       "    }\n",
       "\n",
       "    .dataframe thead th {\n",
       "        text-align: right;\n",
       "    }\n",
       "</style>\n",
       "<table border=\"1\" class=\"dataframe\">\n",
       "  <thead>\n",
       "    <tr style=\"text-align: right;\">\n",
       "      <th></th>\n",
       "      <th>symboling</th>\n",
       "      <th>normalized-losses</th>\n",
       "      <th>make</th>\n",
       "      <th>fuel-type</th>\n",
       "      <th>aspiration</th>\n",
       "      <th>num-of-doors</th>\n",
       "      <th>body-style</th>\n",
       "      <th>drive-wheels</th>\n",
       "      <th>engine-location</th>\n",
       "      <th>wheel-base</th>\n",
       "      <th>...</th>\n",
       "      <th>engine-size</th>\n",
       "      <th>fuel-system</th>\n",
       "      <th>bore</th>\n",
       "      <th>stroke</th>\n",
       "      <th>compression-ratio</th>\n",
       "      <th>horsepower</th>\n",
       "      <th>peak-rpm</th>\n",
       "      <th>city-mpg</th>\n",
       "      <th>highway-mpg</th>\n",
       "      <th>price</th>\n",
       "    </tr>\n",
       "  </thead>\n",
       "  <tbody>\n",
       "    <tr>\n",
       "      <th>0</th>\n",
       "      <td>3</td>\n",
       "      <td>?</td>\n",
       "      <td>alfa-romero</td>\n",
       "      <td>gas</td>\n",
       "      <td>std</td>\n",
       "      <td>two</td>\n",
       "      <td>convertible</td>\n",
       "      <td>rwd</td>\n",
       "      <td>front</td>\n",
       "      <td>88.6</td>\n",
       "      <td>...</td>\n",
       "      <td>130</td>\n",
       "      <td>mpfi</td>\n",
       "      <td>3.47</td>\n",
       "      <td>2.68</td>\n",
       "      <td>9.0</td>\n",
       "      <td>111</td>\n",
       "      <td>5000</td>\n",
       "      <td>21</td>\n",
       "      <td>27</td>\n",
       "      <td>13495</td>\n",
       "    </tr>\n",
       "    <tr>\n",
       "      <th>1</th>\n",
       "      <td>3</td>\n",
       "      <td>?</td>\n",
       "      <td>alfa-romero</td>\n",
       "      <td>gas</td>\n",
       "      <td>std</td>\n",
       "      <td>two</td>\n",
       "      <td>convertible</td>\n",
       "      <td>rwd</td>\n",
       "      <td>front</td>\n",
       "      <td>88.6</td>\n",
       "      <td>...</td>\n",
       "      <td>130</td>\n",
       "      <td>mpfi</td>\n",
       "      <td>3.47</td>\n",
       "      <td>2.68</td>\n",
       "      <td>9.0</td>\n",
       "      <td>111</td>\n",
       "      <td>5000</td>\n",
       "      <td>21</td>\n",
       "      <td>27</td>\n",
       "      <td>16500</td>\n",
       "    </tr>\n",
       "    <tr>\n",
       "      <th>2</th>\n",
       "      <td>1</td>\n",
       "      <td>?</td>\n",
       "      <td>alfa-romero</td>\n",
       "      <td>gas</td>\n",
       "      <td>std</td>\n",
       "      <td>two</td>\n",
       "      <td>hatchback</td>\n",
       "      <td>rwd</td>\n",
       "      <td>front</td>\n",
       "      <td>94.5</td>\n",
       "      <td>...</td>\n",
       "      <td>152</td>\n",
       "      <td>mpfi</td>\n",
       "      <td>2.68</td>\n",
       "      <td>3.47</td>\n",
       "      <td>9.0</td>\n",
       "      <td>154</td>\n",
       "      <td>5000</td>\n",
       "      <td>19</td>\n",
       "      <td>26</td>\n",
       "      <td>16500</td>\n",
       "    </tr>\n",
       "    <tr>\n",
       "      <th>3</th>\n",
       "      <td>2</td>\n",
       "      <td>164</td>\n",
       "      <td>audi</td>\n",
       "      <td>gas</td>\n",
       "      <td>std</td>\n",
       "      <td>four</td>\n",
       "      <td>sedan</td>\n",
       "      <td>fwd</td>\n",
       "      <td>front</td>\n",
       "      <td>99.8</td>\n",
       "      <td>...</td>\n",
       "      <td>109</td>\n",
       "      <td>mpfi</td>\n",
       "      <td>3.19</td>\n",
       "      <td>3.4</td>\n",
       "      <td>10.0</td>\n",
       "      <td>102</td>\n",
       "      <td>5500</td>\n",
       "      <td>24</td>\n",
       "      <td>30</td>\n",
       "      <td>13950</td>\n",
       "    </tr>\n",
       "    <tr>\n",
       "      <th>4</th>\n",
       "      <td>2</td>\n",
       "      <td>164</td>\n",
       "      <td>audi</td>\n",
       "      <td>gas</td>\n",
       "      <td>std</td>\n",
       "      <td>four</td>\n",
       "      <td>sedan</td>\n",
       "      <td>4wd</td>\n",
       "      <td>front</td>\n",
       "      <td>99.4</td>\n",
       "      <td>...</td>\n",
       "      <td>136</td>\n",
       "      <td>mpfi</td>\n",
       "      <td>3.19</td>\n",
       "      <td>3.4</td>\n",
       "      <td>8.0</td>\n",
       "      <td>115</td>\n",
       "      <td>5500</td>\n",
       "      <td>18</td>\n",
       "      <td>22</td>\n",
       "      <td>17450</td>\n",
       "    </tr>\n",
       "  </tbody>\n",
       "</table>\n",
       "<p>5 rows × 26 columns</p>\n",
       "</div>"
      ],
      "text/plain": [
       "   symboling normalized-losses         make fuel-type aspiration num-of-doors  \\\n",
       "0          3                 ?  alfa-romero       gas        std          two   \n",
       "1          3                 ?  alfa-romero       gas        std          two   \n",
       "2          1                 ?  alfa-romero       gas        std          two   \n",
       "3          2               164         audi       gas        std         four   \n",
       "4          2               164         audi       gas        std         four   \n",
       "\n",
       "    body-style drive-wheels engine-location  wheel-base  ...  engine-size  \\\n",
       "0  convertible          rwd           front        88.6  ...          130   \n",
       "1  convertible          rwd           front        88.6  ...          130   \n",
       "2    hatchback          rwd           front        94.5  ...          152   \n",
       "3        sedan          fwd           front        99.8  ...          109   \n",
       "4        sedan          4wd           front        99.4  ...          136   \n",
       "\n",
       "   fuel-system  bore  stroke compression-ratio horsepower  peak-rpm city-mpg  \\\n",
       "0         mpfi  3.47    2.68               9.0        111      5000       21   \n",
       "1         mpfi  3.47    2.68               9.0        111      5000       21   \n",
       "2         mpfi  2.68    3.47               9.0        154      5000       19   \n",
       "3         mpfi  3.19     3.4              10.0        102      5500       24   \n",
       "4         mpfi  3.19     3.4               8.0        115      5500       18   \n",
       "\n",
       "  highway-mpg  price  \n",
       "0          27  13495  \n",
       "1          27  16500  \n",
       "2          26  16500  \n",
       "3          30  13950  \n",
       "4          22  17450  \n",
       "\n",
       "[5 rows x 26 columns]"
      ]
     },
     "execution_count": 2,
     "metadata": {},
     "output_type": "execute_result"
    }
   ],
   "source": [
    "#importing the dataset\n",
    "data = pd.read_csv('../input/automobile-dataset/Automobile_data.csv')\n",
    "\n",
    "#displaying what datset looks like\n",
    "data.head()"
   ]
  },
  {
   "cell_type": "markdown",
   "id": "smoking-directive",
   "metadata": {
    "papermill": {
     "duration": 0.017079,
     "end_time": "2021-05-02T15:57:38.522910",
     "exception": false,
     "start_time": "2021-05-02T15:57:38.505831",
     "status": "completed"
    },
    "tags": []
   },
   "source": [
    "# The first step in Machine learning is data cleaning.\n",
    "\n",
    "So we will first check whether our dataset contains missing or null values.\n",
    "\n",
    "Missing values are denoted using \" ?\" symbol while null values are denoted using \"NaN\""
   ]
  },
  {
   "cell_type": "code",
   "execution_count": 3,
   "id": "informational-clearing",
   "metadata": {
    "execution": {
     "iopub.execute_input": "2021-05-02T15:57:38.561664Z",
     "iopub.status.busy": "2021-05-02T15:57:38.560940Z",
     "iopub.status.idle": "2021-05-02T15:57:38.586383Z",
     "shell.execute_reply": "2021-05-02T15:57:38.586912Z"
    },
    "papermill": {
     "duration": 0.046861,
     "end_time": "2021-05-02T15:57:38.587129",
     "exception": false,
     "start_time": "2021-05-02T15:57:38.540268",
     "status": "completed"
    },
    "tags": []
   },
   "outputs": [
    {
     "name": "stdout",
     "output_type": "stream",
     "text": [
      "<class 'pandas.core.frame.DataFrame'>\n",
      "RangeIndex: 205 entries, 0 to 204\n",
      "Data columns (total 26 columns):\n",
      " #   Column             Non-Null Count  Dtype  \n",
      "---  ------             --------------  -----  \n",
      " 0   symboling          205 non-null    int64  \n",
      " 1   normalized-losses  205 non-null    object \n",
      " 2   make               205 non-null    object \n",
      " 3   fuel-type          205 non-null    object \n",
      " 4   aspiration         205 non-null    object \n",
      " 5   num-of-doors       205 non-null    object \n",
      " 6   body-style         205 non-null    object \n",
      " 7   drive-wheels       205 non-null    object \n",
      " 8   engine-location    205 non-null    object \n",
      " 9   wheel-base         205 non-null    float64\n",
      " 10  length             205 non-null    float64\n",
      " 11  width              205 non-null    float64\n",
      " 12  height             205 non-null    float64\n",
      " 13  curb-weight        205 non-null    int64  \n",
      " 14  engine-type        205 non-null    object \n",
      " 15  num-of-cylinders   205 non-null    object \n",
      " 16  engine-size        205 non-null    int64  \n",
      " 17  fuel-system        205 non-null    object \n",
      " 18  bore               205 non-null    object \n",
      " 19  stroke             205 non-null    object \n",
      " 20  compression-ratio  205 non-null    float64\n",
      " 21  horsepower         205 non-null    object \n",
      " 22  peak-rpm           205 non-null    object \n",
      " 23  city-mpg           205 non-null    int64  \n",
      " 24  highway-mpg        205 non-null    int64  \n",
      " 25  price              205 non-null    object \n",
      "dtypes: float64(5), int64(5), object(16)\n",
      "memory usage: 41.8+ KB\n"
     ]
    }
   ],
   "source": [
    "data.info()"
   ]
  },
  {
   "cell_type": "markdown",
   "id": "respected-hydrogen",
   "metadata": {
    "papermill": {
     "duration": 0.017437,
     "end_time": "2021-05-02T15:57:38.622168",
     "exception": false,
     "start_time": "2021-05-02T15:57:38.604731",
     "status": "completed"
    },
    "tags": []
   },
   "source": [
    "# No null values ??\n",
    "\n",
    "As can be seen there are no null values in this dataset but..\n",
    "if you see the output of first cell, it gives us a hint that our dataset has some missing values \"?\".\n",
    "\n",
    "To confirm this we will print the value count of one of any columns.\n",
    "\n",
    "Let's check \"normalized-losses\" feature with pandas function value_counts()"
   ]
  },
  {
   "cell_type": "code",
   "execution_count": 4,
   "id": "progressive-composer",
   "metadata": {
    "execution": {
     "iopub.execute_input": "2021-05-02T15:57:38.661563Z",
     "iopub.status.busy": "2021-05-02T15:57:38.660865Z",
     "iopub.status.idle": "2021-05-02T15:57:38.671130Z",
     "shell.execute_reply": "2021-05-02T15:57:38.670574Z"
    },
    "papermill": {
     "duration": 0.031444,
     "end_time": "2021-05-02T15:57:38.671356",
     "exception": false,
     "start_time": "2021-05-02T15:57:38.639912",
     "status": "completed"
    },
    "tags": []
   },
   "outputs": [
    {
     "data": {
      "text/plain": [
       "?      41\n",
       "161    11\n",
       "91      8\n",
       "150     7\n",
       "128     6\n",
       "134     6\n",
       "104     6\n",
       "94      5\n",
       "74      5\n",
       "85      5\n",
       "102     5\n",
       "65      5\n",
       "95      5\n",
       "168     5\n",
       "103     5\n",
       "148     4\n",
       "118     4\n",
       "93      4\n",
       "106     4\n",
       "122     4\n",
       "83      3\n",
       "101     3\n",
       "125     3\n",
       "137     3\n",
       "115     3\n",
       "154     3\n",
       "192     2\n",
       "158     2\n",
       "164     2\n",
       "110     2\n",
       "81      2\n",
       "113     2\n",
       "129     2\n",
       "194     2\n",
       "197     2\n",
       "89      2\n",
       "108     2\n",
       "153     2\n",
       "87      2\n",
       "145     2\n",
       "119     2\n",
       "188     2\n",
       "256     1\n",
       "186     1\n",
       "231     1\n",
       "107     1\n",
       "121     1\n",
       "90      1\n",
       "142     1\n",
       "98      1\n",
       "77      1\n",
       "78      1\n",
       "Name: normalized-losses, dtype: int64"
      ]
     },
     "execution_count": 4,
     "metadata": {},
     "output_type": "execute_result"
    }
   ],
   "source": [
    "# pandas.DataFrame.value_counts() this funtion returns a series of all the distinct values and their counts\n",
    "data['normalized-losses'].value_counts()"
   ]
  },
  {
   "cell_type": "markdown",
   "id": "laughing-browse",
   "metadata": {
    "papermill": {
     "duration": 0.017749,
     "end_time": "2021-05-02T15:57:38.707494",
     "exception": false,
     "start_time": "2021-05-02T15:57:38.689745",
     "status": "completed"
    },
    "tags": []
   },
   "source": [
    "# Our suspicion was right\n",
    "The output shows that in \"normalized-losses\" feature we have around 41 missing values.\n",
    "\n",
    "To handle this we will replace all the missing values in out dataset with np.nan \n",
    "using pandas function pd.DataFrame.replace()"
   ]
  },
  {
   "cell_type": "code",
   "execution_count": 5,
   "id": "fiscal-express",
   "metadata": {
    "execution": {
     "iopub.execute_input": "2021-05-02T15:57:38.747645Z",
     "iopub.status.busy": "2021-05-02T15:57:38.746677Z",
     "iopub.status.idle": "2021-05-02T15:57:38.762326Z",
     "shell.execute_reply": "2021-05-02T15:57:38.762812Z"
    },
    "papermill": {
     "duration": 0.037622,
     "end_time": "2021-05-02T15:57:38.763002",
     "exception": false,
     "start_time": "2021-05-02T15:57:38.725380",
     "status": "completed"
    },
    "tags": []
   },
   "outputs": [
    {
     "data": {
      "text/plain": [
       "symboling             0\n",
       "normalized-losses    41\n",
       "make                  0\n",
       "fuel-type             0\n",
       "aspiration            0\n",
       "num-of-doors          2\n",
       "body-style            0\n",
       "drive-wheels          0\n",
       "engine-location       0\n",
       "wheel-base            0\n",
       "length                0\n",
       "width                 0\n",
       "height                0\n",
       "curb-weight           0\n",
       "engine-type           0\n",
       "num-of-cylinders      0\n",
       "engine-size           0\n",
       "fuel-system           0\n",
       "bore                  4\n",
       "stroke                4\n",
       "compression-ratio     0\n",
       "horsepower            2\n",
       "peak-rpm              2\n",
       "city-mpg              0\n",
       "highway-mpg           0\n",
       "price                 4\n",
       "dtype: int64"
      ]
     },
     "execution_count": 5,
     "metadata": {},
     "output_type": "execute_result"
    }
   ],
   "source": [
    "data = data.replace(\"?\", np.nan)\n",
    "\n",
    "#checking for missing values again\n",
    "data.isna().sum()"
   ]
  },
  {
   "cell_type": "markdown",
   "id": "private-gender",
   "metadata": {
    "papermill": {
     "duration": 0.018367,
     "end_time": "2021-05-02T15:57:38.799988",
     "exception": false,
     "start_time": "2021-05-02T15:57:38.781621",
     "status": "completed"
    },
    "tags": []
   },
   "source": [
    "Now looking again at the info of our dataset we can see that it contains features that are of float datatype but are labled as objects\n",
    "\n",
    "so we have to change them as well."
   ]
  },
  {
   "cell_type": "code",
   "execution_count": 6,
   "id": "discrete-hampton",
   "metadata": {
    "execution": {
     "iopub.execute_input": "2021-05-02T15:57:38.842903Z",
     "iopub.status.busy": "2021-05-02T15:57:38.841909Z",
     "iopub.status.idle": "2021-05-02T15:57:38.855414Z",
     "shell.execute_reply": "2021-05-02T15:57:38.855906Z"
    },
    "papermill": {
     "duration": 0.037635,
     "end_time": "2021-05-02T15:57:38.856141",
     "exception": false,
     "start_time": "2021-05-02T15:57:38.818506",
     "status": "completed"
    },
    "tags": []
   },
   "outputs": [],
   "source": [
    "for col in data.select_dtypes(include=\"object\"):\n",
    "    try:\n",
    "        data[col] = data[col].astype(str).astype(float)\n",
    "    except:\n",
    "        pass"
   ]
  },
  {
   "cell_type": "markdown",
   "id": "synthetic-houston",
   "metadata": {
    "papermill": {
     "duration": 0.018244,
     "end_time": "2021-05-02T15:57:38.893306",
     "exception": false,
     "start_time": "2021-05-02T15:57:38.875062",
     "status": "completed"
    },
    "tags": []
   },
   "source": [
    "# Now let's check our dataset"
   ]
  },
  {
   "cell_type": "code",
   "execution_count": 7,
   "id": "expected-german",
   "metadata": {
    "execution": {
     "iopub.execute_input": "2021-05-02T15:57:38.935706Z",
     "iopub.status.busy": "2021-05-02T15:57:38.934732Z",
     "iopub.status.idle": "2021-05-02T15:57:38.953495Z",
     "shell.execute_reply": "2021-05-02T15:57:38.953979Z"
    },
    "papermill": {
     "duration": 0.042163,
     "end_time": "2021-05-02T15:57:38.954198",
     "exception": false,
     "start_time": "2021-05-02T15:57:38.912035",
     "status": "completed"
    },
    "tags": []
   },
   "outputs": [
    {
     "data": {
      "text/html": [
       "<div>\n",
       "<style scoped>\n",
       "    .dataframe tbody tr th:only-of-type {\n",
       "        vertical-align: middle;\n",
       "    }\n",
       "\n",
       "    .dataframe tbody tr th {\n",
       "        vertical-align: top;\n",
       "    }\n",
       "\n",
       "    .dataframe thead th {\n",
       "        text-align: right;\n",
       "    }\n",
       "</style>\n",
       "<table border=\"1\" class=\"dataframe\">\n",
       "  <thead>\n",
       "    <tr style=\"text-align: right;\">\n",
       "      <th></th>\n",
       "      <th>make</th>\n",
       "      <th>fuel-type</th>\n",
       "      <th>aspiration</th>\n",
       "      <th>num-of-doors</th>\n",
       "      <th>body-style</th>\n",
       "      <th>drive-wheels</th>\n",
       "      <th>engine-location</th>\n",
       "      <th>engine-type</th>\n",
       "      <th>num-of-cylinders</th>\n",
       "      <th>fuel-system</th>\n",
       "    </tr>\n",
       "  </thead>\n",
       "  <tbody>\n",
       "    <tr>\n",
       "      <th>0</th>\n",
       "      <td>alfa-romero</td>\n",
       "      <td>gas</td>\n",
       "      <td>std</td>\n",
       "      <td>two</td>\n",
       "      <td>convertible</td>\n",
       "      <td>rwd</td>\n",
       "      <td>front</td>\n",
       "      <td>dohc</td>\n",
       "      <td>four</td>\n",
       "      <td>mpfi</td>\n",
       "    </tr>\n",
       "    <tr>\n",
       "      <th>1</th>\n",
       "      <td>alfa-romero</td>\n",
       "      <td>gas</td>\n",
       "      <td>std</td>\n",
       "      <td>two</td>\n",
       "      <td>convertible</td>\n",
       "      <td>rwd</td>\n",
       "      <td>front</td>\n",
       "      <td>dohc</td>\n",
       "      <td>four</td>\n",
       "      <td>mpfi</td>\n",
       "    </tr>\n",
       "    <tr>\n",
       "      <th>2</th>\n",
       "      <td>alfa-romero</td>\n",
       "      <td>gas</td>\n",
       "      <td>std</td>\n",
       "      <td>two</td>\n",
       "      <td>hatchback</td>\n",
       "      <td>rwd</td>\n",
       "      <td>front</td>\n",
       "      <td>ohcv</td>\n",
       "      <td>six</td>\n",
       "      <td>mpfi</td>\n",
       "    </tr>\n",
       "    <tr>\n",
       "      <th>3</th>\n",
       "      <td>audi</td>\n",
       "      <td>gas</td>\n",
       "      <td>std</td>\n",
       "      <td>four</td>\n",
       "      <td>sedan</td>\n",
       "      <td>fwd</td>\n",
       "      <td>front</td>\n",
       "      <td>ohc</td>\n",
       "      <td>four</td>\n",
       "      <td>mpfi</td>\n",
       "    </tr>\n",
       "    <tr>\n",
       "      <th>4</th>\n",
       "      <td>audi</td>\n",
       "      <td>gas</td>\n",
       "      <td>std</td>\n",
       "      <td>four</td>\n",
       "      <td>sedan</td>\n",
       "      <td>4wd</td>\n",
       "      <td>front</td>\n",
       "      <td>ohc</td>\n",
       "      <td>five</td>\n",
       "      <td>mpfi</td>\n",
       "    </tr>\n",
       "  </tbody>\n",
       "</table>\n",
       "</div>"
      ],
      "text/plain": [
       "          make fuel-type aspiration num-of-doors   body-style drive-wheels  \\\n",
       "0  alfa-romero       gas        std          two  convertible          rwd   \n",
       "1  alfa-romero       gas        std          two  convertible          rwd   \n",
       "2  alfa-romero       gas        std          two    hatchback          rwd   \n",
       "3         audi       gas        std         four        sedan          fwd   \n",
       "4         audi       gas        std         four        sedan          4wd   \n",
       "\n",
       "  engine-location engine-type num-of-cylinders fuel-system  \n",
       "0           front        dohc             four        mpfi  \n",
       "1           front        dohc             four        mpfi  \n",
       "2           front        ohcv              six        mpfi  \n",
       "3           front         ohc             four        mpfi  \n",
       "4           front         ohc             five        mpfi  "
      ]
     },
     "execution_count": 7,
     "metadata": {},
     "output_type": "execute_result"
    }
   ],
   "source": [
    "data.select_dtypes(include = 'object').head()"
   ]
  },
  {
   "cell_type": "markdown",
   "id": "rational-spirit",
   "metadata": {
    "papermill": {
     "duration": 0.018595,
     "end_time": "2021-05-02T15:57:38.991788",
     "exception": false,
     "start_time": "2021-05-02T15:57:38.973193",
     "status": "completed"
    },
    "tags": []
   },
   "source": [
    "# found anythiing intresting in this above output ?\n",
    "\n",
    "If you look at two features, num-of-doors and num-of-cylinders features you will find out that these features contains numerical values but with string name. \n",
    "\n",
    "So we can just replace the names with values.\n",
    "\n",
    "To do that first we have to check the different values it contains."
   ]
  },
  {
   "cell_type": "code",
   "execution_count": 8,
   "id": "seasonal-stockholm",
   "metadata": {
    "execution": {
     "iopub.execute_input": "2021-05-02T15:57:39.038685Z",
     "iopub.status.busy": "2021-05-02T15:57:39.037974Z",
     "iopub.status.idle": "2021-05-02T15:57:39.040638Z",
     "shell.execute_reply": "2021-05-02T15:57:39.041127Z"
    },
    "papermill": {
     "duration": 0.030479,
     "end_time": "2021-05-02T15:57:39.041318",
     "exception": false,
     "start_time": "2021-05-02T15:57:39.010839",
     "status": "completed"
    },
    "tags": []
   },
   "outputs": [
    {
     "data": {
      "text/plain": [
       "four      159\n",
       "six        24\n",
       "five       11\n",
       "eight       5\n",
       "two         4\n",
       "three       1\n",
       "twelve      1\n",
       "Name: num-of-cylinders, dtype: int64"
      ]
     },
     "execution_count": 8,
     "metadata": {},
     "output_type": "execute_result"
    }
   ],
   "source": [
    "data['num-of-cylinders'].value_counts()"
   ]
  },
  {
   "cell_type": "code",
   "execution_count": 9,
   "id": "minus-utilization",
   "metadata": {
    "execution": {
     "iopub.execute_input": "2021-05-02T15:57:39.085721Z",
     "iopub.status.busy": "2021-05-02T15:57:39.084877Z",
     "iopub.status.idle": "2021-05-02T15:57:39.092875Z",
     "shell.execute_reply": "2021-05-02T15:57:39.092256Z"
    },
    "papermill": {
     "duration": 0.031749,
     "end_time": "2021-05-02T15:57:39.093025",
     "exception": false,
     "start_time": "2021-05-02T15:57:39.061276",
     "status": "completed"
    },
    "tags": []
   },
   "outputs": [
    {
     "data": {
      "text/plain": [
       "four    114\n",
       "two      89\n",
       "Name: num-of-doors, dtype: int64"
      ]
     },
     "execution_count": 9,
     "metadata": {},
     "output_type": "execute_result"
    }
   ],
   "source": [
    "data['num-of-doors'].value_counts()"
   ]
  },
  {
   "cell_type": "code",
   "execution_count": 10,
   "id": "binary-divide",
   "metadata": {
    "execution": {
     "iopub.execute_input": "2021-05-02T15:57:39.137410Z",
     "iopub.status.busy": "2021-05-02T15:57:39.136755Z",
     "iopub.status.idle": "2021-05-02T15:57:39.147385Z",
     "shell.execute_reply": "2021-05-02T15:57:39.147892Z"
    },
    "papermill": {
     "duration": 0.034467,
     "end_time": "2021-05-02T15:57:39.148120",
     "exception": false,
     "start_time": "2021-05-02T15:57:39.113653",
     "status": "completed"
    },
    "tags": []
   },
   "outputs": [
    {
     "data": {
      "text/plain": [
       "4         159\n",
       "6          24\n",
       "5          11\n",
       "8           5\n",
       "2           4\n",
       "3           1\n",
       "twelve      1\n",
       "Name: num-of-cylinders, dtype: int64"
      ]
     },
     "execution_count": 10,
     "metadata": {},
     "output_type": "execute_result"
    }
   ],
   "source": [
    "data['num-of-cylinders'] = data['num-of-cylinders'].replace({ 'four' : 4, 'six' : 6, 'five' : 5, 'eight' : 8, 'two' : 2, 'tweleve' : 12, 'three' : 3})\n",
    "data['num-of-cylinders'].value_counts()"
   ]
  },
  {
   "cell_type": "code",
   "execution_count": 11,
   "id": "valued-supplier",
   "metadata": {
    "execution": {
     "iopub.execute_input": "2021-05-02T15:57:39.193520Z",
     "iopub.status.busy": "2021-05-02T15:57:39.192851Z",
     "iopub.status.idle": "2021-05-02T15:57:39.203438Z",
     "shell.execute_reply": "2021-05-02T15:57:39.202906Z"
    },
    "papermill": {
     "duration": 0.034661,
     "end_time": "2021-05-02T15:57:39.203594",
     "exception": false,
     "start_time": "2021-05-02T15:57:39.168933",
     "status": "completed"
    },
    "tags": []
   },
   "outputs": [
    {
     "data": {
      "text/plain": [
       "4.0    114\n",
       "2.0     89\n",
       "Name: num-of-doors, dtype: int64"
      ]
     },
     "execution_count": 11,
     "metadata": {},
     "output_type": "execute_result"
    }
   ],
   "source": [
    "data['num-of-doors'] = data['num-of-doors'].replace({ 'four' : 4, 'two' : 2})\n",
    "data['num-of-doors'].value_counts()"
   ]
  },
  {
   "cell_type": "markdown",
   "id": "coupled-wings",
   "metadata": {
    "papermill": {
     "duration": 0.020702,
     "end_time": "2021-05-02T15:57:39.245689",
     "exception": false,
     "start_time": "2021-05-02T15:57:39.224987",
     "status": "completed"
    },
    "tags": []
   },
   "source": [
    "# Now comes the part where we have to fill null values\n",
    "\n",
    "For that lets check if the correlation between features can help us.\n",
    "\n",
    "If some feature have better correlation with one another we can use them to fill null values in one of them."
   ]
  },
  {
   "cell_type": "code",
   "execution_count": 12,
   "id": "protected-festival",
   "metadata": {
    "execution": {
     "iopub.execute_input": "2021-05-02T15:57:39.296257Z",
     "iopub.status.busy": "2021-05-02T15:57:39.295406Z",
     "iopub.status.idle": "2021-05-02T15:57:41.931804Z",
     "shell.execute_reply": "2021-05-02T15:57:41.931078Z"
    },
    "papermill": {
     "duration": 2.665102,
     "end_time": "2021-05-02T15:57:41.931954",
     "exception": false,
     "start_time": "2021-05-02T15:57:39.266852",
     "status": "completed"
    },
    "tags": []
   },
   "outputs": [
    {
     "data": {
      "text/plain": [
       "<AxesSubplot:>"
      ]
     },
     "execution_count": 12,
     "metadata": {},
     "output_type": "execute_result"
    },
    {
     "data": {
      "image/png": "[encoded data removed]",
      "text/plain": [
       "<Figure size 1080x1080 with 2 Axes>"
      ]
     },
     "metadata": {
      "needs_background": "light"
     },
     "output_type": "display_data"
    }
   ],
   "source": [
    "# importing the matplotlib and seaborn library for heatmap\n",
    "import matplotlib.pyplot as plt\n",
    "import seaborn as sns\n",
    "\n",
    "plt.figure(figsize = (15,15))\n",
    "sns.heatmap(data.corr(), cmap = 'RdYlGn_r', annot = True)"
   ]
  },
  {
   "cell_type": "markdown",
   "id": "improving-audience",
   "metadata": {
    "papermill": {
     "duration": 0.027771,
     "end_time": "2021-05-02T15:57:41.987380",
     "exception": false,
     "start_time": "2021-05-02T15:57:41.959609",
     "status": "completed"
    },
    "tags": []
   },
   "source": [
    "# Now lets think about this dataset\n",
    "\n",
    "As we can know this dataset is based on real-world automobile information,\n",
    "and that can help us fill the null values in some cases.\n",
    "\n",
    "\n",
    "As a first assumption we make is using real-world data we come to know that,\n",
    "most sedans as well as wagons have four doors most of the time while convertibles and hardtops have two doors.\n",
    "\n",
    "To back up this assumption let's draw a graph."
   ]
  },
  {
   "cell_type": "code",
   "execution_count": 13,
   "id": "sacred-representative",
   "metadata": {
    "execution": {
     "iopub.execute_input": "2021-05-02T15:57:42.050413Z",
     "iopub.status.busy": "2021-05-02T15:57:42.048720Z",
     "iopub.status.idle": "2021-05-02T15:57:42.266318Z",
     "shell.execute_reply": "2021-05-02T15:57:42.265661Z"
    },
    "papermill": {
     "duration": 0.25136,
     "end_time": "2021-05-02T15:57:42.266476",
     "exception": false,
     "start_time": "2021-05-02T15:57:42.015116",
     "status": "completed"
    },
    "tags": []
   },
   "outputs": [
    {
     "data": {
      "text/plain": [
       "<AxesSubplot:xlabel='body-style', ylabel='count'>"
      ]
     },
     "execution_count": 13,
     "metadata": {},
     "output_type": "execute_result"
    },
    {
     "data": {
      "image/png": "[encoded data removed]",
      "text/plain": [
       "<Figure size 432x288 with 1 Axes>"
      ]
     },
     "metadata": {
      "needs_background": "light"
     },
     "output_type": "display_data"
    }
   ],
   "source": [
    "sns.countplot(data = data, x='body-style', hue='num-of-doors')"
   ]
  },
  {
   "cell_type": "markdown",
   "id": "ongoing-verse",
   "metadata": {
    "papermill": {
     "duration": 0.028206,
     "end_time": "2021-05-02T15:57:42.323944",
     "exception": false,
     "start_time": "2021-05-02T15:57:42.295738",
     "status": "completed"
    },
    "tags": []
   },
   "source": [
    "# so our assumption was mostly correct\n",
    "\n",
    "We can see that since hatchbacks have more weight for 2 doors and sedans have 4 doors we will impute specific car type with these values.\n",
    "\n",
    "i.e. \n",
    "fill convertible/hardtop with 2 doors\n",
    "hatchback with 2, sedan and wagon with 4."
   ]
  },
  {
   "cell_type": "code",
   "execution_count": 14,
   "id": "balanced-drain",
   "metadata": {
    "execution": {
     "iopub.execute_input": "2021-05-02T15:57:42.393308Z",
     "iopub.status.busy": "2021-05-02T15:57:42.386564Z",
     "iopub.status.idle": "2021-05-02T15:57:42.415786Z",
     "shell.execute_reply": "2021-05-02T15:57:42.416337Z"
    },
    "papermill": {
     "duration": 0.064151,
     "end_time": "2021-05-02T15:57:42.416530",
     "exception": false,
     "start_time": "2021-05-02T15:57:42.352379",
     "status": "completed"
    },
    "tags": []
   },
   "outputs": [
    {
     "data": {
      "text/html": [
       "<div>\n",
       "<style scoped>\n",
       "    .dataframe tbody tr th:only-of-type {\n",
       "        vertical-align: middle;\n",
       "    }\n",
       "\n",
       "    .dataframe tbody tr th {\n",
       "        vertical-align: top;\n",
       "    }\n",
       "\n",
       "    .dataframe thead th {\n",
       "        text-align: right;\n",
       "    }\n",
       "</style>\n",
       "<table border=\"1\" class=\"dataframe\">\n",
       "  <thead>\n",
       "    <tr style=\"text-align: right;\">\n",
       "      <th></th>\n",
       "      <th>symboling</th>\n",
       "      <th>normalized-losses</th>\n",
       "      <th>make</th>\n",
       "      <th>fuel-type</th>\n",
       "      <th>aspiration</th>\n",
       "      <th>num-of-doors</th>\n",
       "      <th>body-style</th>\n",
       "      <th>drive-wheels</th>\n",
       "      <th>engine-location</th>\n",
       "      <th>wheel-base</th>\n",
       "      <th>...</th>\n",
       "      <th>engine-size</th>\n",
       "      <th>fuel-system</th>\n",
       "      <th>bore</th>\n",
       "      <th>stroke</th>\n",
       "      <th>compression-ratio</th>\n",
       "      <th>horsepower</th>\n",
       "      <th>peak-rpm</th>\n",
       "      <th>city-mpg</th>\n",
       "      <th>highway-mpg</th>\n",
       "      <th>price</th>\n",
       "    </tr>\n",
       "  </thead>\n",
       "  <tbody>\n",
       "    <tr>\n",
       "      <th>27</th>\n",
       "      <td>1</td>\n",
       "      <td>148.0</td>\n",
       "      <td>dodge</td>\n",
       "      <td>gas</td>\n",
       "      <td>turbo</td>\n",
       "      <td>NaN</td>\n",
       "      <td>sedan</td>\n",
       "      <td>fwd</td>\n",
       "      <td>front</td>\n",
       "      <td>93.7</td>\n",
       "      <td>...</td>\n",
       "      <td>98</td>\n",
       "      <td>mpfi</td>\n",
       "      <td>3.03</td>\n",
       "      <td>3.39</td>\n",
       "      <td>7.6</td>\n",
       "      <td>102.0</td>\n",
       "      <td>5500.0</td>\n",
       "      <td>24</td>\n",
       "      <td>30</td>\n",
       "      <td>8558.0</td>\n",
       "    </tr>\n",
       "    <tr>\n",
       "      <th>63</th>\n",
       "      <td>0</td>\n",
       "      <td>NaN</td>\n",
       "      <td>mazda</td>\n",
       "      <td>diesel</td>\n",
       "      <td>std</td>\n",
       "      <td>NaN</td>\n",
       "      <td>sedan</td>\n",
       "      <td>fwd</td>\n",
       "      <td>front</td>\n",
       "      <td>98.8</td>\n",
       "      <td>...</td>\n",
       "      <td>122</td>\n",
       "      <td>idi</td>\n",
       "      <td>3.39</td>\n",
       "      <td>3.39</td>\n",
       "      <td>22.7</td>\n",
       "      <td>64.0</td>\n",
       "      <td>4650.0</td>\n",
       "      <td>36</td>\n",
       "      <td>42</td>\n",
       "      <td>10795.0</td>\n",
       "    </tr>\n",
       "  </tbody>\n",
       "</table>\n",
       "<p>2 rows × 26 columns</p>\n",
       "</div>"
      ],
      "text/plain": [
       "    symboling  normalized-losses   make fuel-type aspiration  num-of-doors  \\\n",
       "27          1              148.0  dodge       gas      turbo           NaN   \n",
       "63          0                NaN  mazda    diesel        std           NaN   \n",
       "\n",
       "   body-style drive-wheels engine-location  wheel-base  ...  engine-size  \\\n",
       "27      sedan          fwd           front        93.7  ...           98   \n",
       "63      sedan          fwd           front        98.8  ...          122   \n",
       "\n",
       "    fuel-system  bore  stroke compression-ratio horsepower  peak-rpm city-mpg  \\\n",
       "27         mpfi  3.03    3.39               7.6      102.0    5500.0       24   \n",
       "63          idi  3.39    3.39              22.7       64.0    4650.0       36   \n",
       "\n",
       "    highway-mpg    price  \n",
       "27           30   8558.0  \n",
       "63           42  10795.0  \n",
       "\n",
       "[2 rows x 26 columns]"
      ]
     },
     "execution_count": 14,
     "metadata": {},
     "output_type": "execute_result"
    }
   ],
   "source": [
    "# prints the rows for which no-of-doors feature have null value\n",
    "data[data['num-of-doors'].isna()]"
   ]
  },
  {
   "cell_type": "markdown",
   "id": "suitable-cuisine",
   "metadata": {
    "papermill": {
     "duration": 0.028723,
     "end_time": "2021-05-02T15:57:42.474222",
     "exception": false,
     "start_time": "2021-05-02T15:57:42.445499",
     "status": "completed"
    },
    "tags": []
   },
   "source": [
    "Here we have only two rows for which no of doors is null.\n",
    "And they are sedan so lets fill their null values with 4"
   ]
  },
  {
   "cell_type": "code",
   "execution_count": 15,
   "id": "anticipated-digest",
   "metadata": {
    "execution": {
     "iopub.execute_input": "2021-05-02T15:57:42.535998Z",
     "iopub.status.busy": "2021-05-02T15:57:42.535313Z",
     "iopub.status.idle": "2021-05-02T15:57:42.540781Z",
     "shell.execute_reply": "2021-05-02T15:57:42.541345Z"
    },
    "papermill": {
     "duration": 0.038134,
     "end_time": "2021-05-02T15:57:42.541541",
     "exception": false,
     "start_time": "2021-05-02T15:57:42.503407",
     "status": "completed"
    },
    "tags": []
   },
   "outputs": [],
   "source": [
    "# fillna funtion replaces all the null values of a feature with provided value\n",
    "# here inplace variable is used that defines that chnages will happen in the dataset itself\n",
    "# we don't need to fill the original dataset\n",
    "\n",
    "data['num-of-doors'].fillna(4, inplace = True)"
   ]
  }
 ],
 "metadata": {
  "kernelspec": {
   "display_name": "Python 3",
   "language": "python",
   "name": "python3"
  },
  "language_info": {
   "codemirror_mode": {
    "name": "ipython",
    "version": 3
   },
   "file_extension": ".py",
   "mimetype": "text/x-python",
   "name": "python",
   "nbconvert_exporter": "python",
   "pygments_lexer": "ipython3",
   "version": "3.7.10"
  },
  "papermill": {
   "default_parameters": {},
   "duration": 13.865035,
   "end_time": "2021-05-02T15:57:43.919905",
   "environment_variables": {},
   "exception": null,
   "input_path": "__notebook__.ipynb",
   "output_path": "__notebook__.ipynb",
   "parameters": {},
   "start_time": "2021-05-02T15:57:30.054870",
   "version": "2.3.3"
  }
 },
 "nbformat": 4,
 "nbformat_minor": 5
}
